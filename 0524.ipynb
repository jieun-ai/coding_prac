{
 "cells": [
  {
   "cell_type": "code",
   "execution_count": 1,
   "metadata": {},
   "outputs": [],
   "source": [
    "nums = {4,1,9,7,5,3,16}"
   ]
  },
  {
   "cell_type": "code",
   "execution_count": 6,
   "metadata": {},
   "outputs": [],
   "source": [
    "import numpy as np"
   ]
  },
  {
   "cell_type": "code",
   "execution_count": 8,
   "metadata": {},
   "outputs": [
    {
     "name": "stdout",
     "output_type": "stream",
     "text": [
      "1\n",
      "2\n",
      "3\n"
     ]
    }
   ],
   "source": [
    "for i in np.arange(1,4):\n",
    "    print(i)\n"
   ]
  },
  {
   "cell_type": "code",
   "execution_count": 22,
   "metadata": {},
   "outputs": [
    {
     "name": "stdout",
     "output_type": "stream",
     "text": [
      "1\n",
      "2\n",
      "3\n",
      "4\n",
      "5\n",
      "6\n",
      "3\n",
      "4\n",
      "5\n",
      "6\n",
      "7\n",
      "5\n",
      "6\n",
      "7\n",
      "8\n",
      "7\n",
      "8\n",
      "9\n",
      "9\n",
      "10\n",
      "11\n"
     ]
    }
   ],
   "source": [
    "for i in range(len(nums)-1): # 012345\n",
    "    for j in range(i+1,len(nums)): #123456\n",
    "        print(i+j)"
   ]
  },
  {
   "cell_type": "code",
   "execution_count": 26,
   "metadata": {},
   "outputs": [
    {
     "data": {
      "text/plain": [
       "True"
      ]
     },
     "execution_count": 26,
     "metadata": {},
     "output_type": "execute_result"
    }
   ],
   "source": [
    "def TwoSum(nums,target):\n",
    "    for i in range(len(nums)-1): # 012345\n",
    "        for j in range(i+1,len(nums)): #123456\n",
    "            if nums[i] + nums[j] == target:\n",
    "                return True\n",
    "    else:\n",
    "        return False\n",
    "\n",
    "nums = [4,1,9,7,5,3,16]\n",
    "target = 14\n",
    "\n",
    "TwoSum(nums,target)"
   ]
  },
  {
   "cell_type": "code",
   "execution_count": 7,
   "metadata": {},
   "outputs": [],
   "source": [
    "def Twopointer(nums,target):\n",
    "    nums.sort()\n",
    "    for i in range(0, len(nums)): # 0123456\n",
    "        for j in range(i+1,len(nums)):\n",
    "            if nums[i]+nums[j]>target:\n",
    "                nums[j]=nums[j-1]\n",
    "\n",
    "\n",
    "nums = [4,1,9,7,5,3,16]\n",
    "target = 14\n",
    "\n",
    "Twopointer(nums,target)"
   ]
  },
  {
   "cell_type": "code",
   "execution_count": 5,
   "metadata": {},
   "outputs": [],
   "source": [
    "import numpy as np"
   ]
  },
  {
   "cell_type": "code",
   "execution_count": 10,
   "metadata": {},
   "outputs": [
    {
     "data": {
      "text/plain": [
       "[1, 3, 4, 5, 7, 9, 16]"
      ]
     },
     "execution_count": 10,
     "metadata": {},
     "output_type": "execute_result"
    }
   ],
   "source": [
    "nums = [4,1,9,7,5,3,16]\n",
    "nums.sort()\n",
    "nums\n"
   ]
  },
  {
   "cell_type": "code",
   "execution_count": 13,
   "metadata": {},
   "outputs": [],
   "source": [
    "def Twopointer(nums,target):\n",
    "    nums.sort()\n",
    "    for i in range(0, len(nums)): # 0123456\n",
    "        for j in range(i+1,len(nums)):\n",
    "            if nums[i]+nums[j]>target:\n",
    "                nums[j]=nums[j-1]\n",
    "\n",
    "\n",
    "nums = [4,1,9,7,5,3,16]\n",
    "target = 14\n",
    "\n",
    "Twopointer(nums,target)"
   ]
  },
  {
   "cell_type": "code",
   "execution_count": null,
   "metadata": {},
   "outputs": [],
   "source": []
  }
 ],
 "metadata": {
  "kernelspec": {
   "display_name": "song3811",
   "language": "python",
   "name": "python3"
  },
  "language_info": {
   "codemirror_mode": {
    "name": "ipython",
    "version": 3
   },
   "file_extension": ".py",
   "mimetype": "text/x-python",
   "name": "python",
   "nbconvert_exporter": "python",
   "pygments_lexer": "ipython3",
   "version": "3.8.11"
  },
  "orig_nbformat": 4
 },
 "nbformat": 4,
 "nbformat_minor": 2
}
